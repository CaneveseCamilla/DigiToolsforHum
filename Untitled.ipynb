{
 "cells": [
  {
   "cell_type": "markdown",
   "id": "1c17aea2",
   "metadata": {},
   "source": [
    "# Our first Notebook!"
   ]
  },
  {
   "cell_type": "markdown",
   "id": "361a65c9",
   "metadata": {},
   "source": [
    "This is some *italicized* text"
   ]
  },
  {
   "cell_type": "markdown",
   "id": "8dbac6bd",
   "metadata": {},
   "source": [
    "## 1. Basic Operations"
   ]
  },
  {
   "cell_type": "code",
   "execution_count": 2,
   "id": "8e697eed",
   "metadata": {},
   "outputs": [],
   "source": [
    "data_dir = 'data/hp/'"
   ]
  },
  {
   "cell_type": "markdown",
   "id": "de6e05c2",
   "metadata": {},
   "source": [
    "### 1.1 Import libraries"
   ]
  },
  {
   "cell_type": "code",
   "execution_count": null,
   "id": "9a609756",
   "metadata": {},
   "outputs": [],
   "source": [
    "import os "
   ]
  },
  {
   "cell_type": "markdown",
   "id": "ded14d0d",
   "metadata": {},
   "source": [
    "### 1.2 Open files"
   ]
  },
  {
   "cell_type": "markdown",
   "id": "3dbf30c1",
   "metadata": {},
   "source": [
    "## 2. Work with text and `nltk`"
   ]
  },
  {
   "cell_type": "markdown",
   "id": "8e681f51",
   "metadata": {},
   "source": [
    "### 2.1 Tokenizers"
   ]
  },
  {
   "cell_type": "markdown",
   "id": "1615b870",
   "metadata": {},
   "source": [
    "### 2.2 Corpus readers"
   ]
  },
  {
   "cell_type": "markdown",
   "id": "2f7be2a6",
   "metadata": {},
   "source": [
    "### 2.3 Word frequencies"
   ]
  },
  {
   "cell_type": "code",
   "execution_count": null,
   "id": "f0ac5040",
   "metadata": {},
   "outputs": [],
   "source": []
  }
 ],
 "metadata": {
  "kernelspec": {
   "display_name": "Python 3 (ipykernel)",
   "language": "python",
   "name": "python3"
  },
  "language_info": {
   "codemirror_mode": {
    "name": "ipython",
    "version": 3
   },
   "file_extension": ".py",
   "mimetype": "text/x-python",
   "name": "python",
   "nbconvert_exporter": "python",
   "pygments_lexer": "ipython3",
   "version": "3.11.5"
  }
 },
 "nbformat": 4,
 "nbformat_minor": 5
}
